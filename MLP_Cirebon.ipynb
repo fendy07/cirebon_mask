{
 "cells": [
  {
   "cell_type": "markdown",
   "metadata": {},
   "source": [
    "# Cirebon Mask Classification Using Combined GLCM-SFTA Feature Texture and Multi Layer Perceptron Neural Network"
   ]
  },
  {
   "cell_type": "markdown",
   "metadata": {},
   "source": [
    "## Import Library"
   ]
  },
  {
   "cell_type": "code",
   "execution_count": 1,
   "metadata": {},
   "outputs": [
    {
     "name": "stdout",
     "output_type": "stream",
     "text": [
      "WARNING:tensorflow:From C:\\Users\\HP\\anaconda3\\Lib\\site-packages\\keras\\src\\losses.py:2976: The name tf.losses.sparse_softmax_cross_entropy is deprecated. Please use tf.compat.v1.losses.sparse_softmax_cross_entropy instead.\n",
      "\n"
     ]
    }
   ],
   "source": [
    "import pickle\n",
    "import numpy as np\n",
    "import pandas as pd\n",
    "import seaborn as sns\n",
    "import tensorflow as tf\n",
    "import matplotlib.pyplot as plt\n",
    "from keras.utils import to_categorical\n",
    "from tensorflow.keras.models import Sequential\n",
    "from tensorflow.keras.layers import Dense, Dropout\n",
    "from sklearn.model_selection import train_test_split\n",
    "from sklearn.preprocessing import LabelEncoder, StandardScaler\n",
    "from sklearn.metrics import classification_report, confusion_matrix"
   ]
  },
  {
   "cell_type": "markdown",
   "metadata": {},
   "source": [
    "## Load Dataset"
   ]
  },
  {
   "cell_type": "code",
   "execution_count": 2,
   "metadata": {},
   "outputs": [],
   "source": [
    "trainData = pd.read_csv('data/dfCOMB_train.csv')\n",
    "testData = pd.read_csv('data/dfCOMB_test.csv')\n",
    "trainLabels = pd.read_csv('data/dfLTRAIN_train.csv')\n",
    "testLabels = pd.read_csv('data/dfLTEST_test.csv')"
   ]
  },
  {
   "cell_type": "code",
   "execution_count": 3,
   "metadata": {},
   "outputs": [
    {
     "data": {
      "text/plain": [
       "((1000, 28), (500, 28))"
      ]
     },
     "execution_count": 3,
     "metadata": {},
     "output_type": "execute_result"
    }
   ],
   "source": [
    "trainData.shape, testData.shape"
   ]
  },
  {
   "cell_type": "code",
   "execution_count": 4,
   "metadata": {},
   "outputs": [
    {
     "data": {
      "text/html": [
       "<div>\n",
       "<style scoped>\n",
       "    .dataframe tbody tr th:only-of-type {\n",
       "        vertical-align: middle;\n",
       "    }\n",
       "\n",
       "    .dataframe tbody tr th {\n",
       "        vertical-align: top;\n",
       "    }\n",
       "\n",
       "    .dataframe thead th {\n",
       "        text-align: right;\n",
       "    }\n",
       "</style>\n",
       "<table border=\"1\" class=\"dataframe\">\n",
       "  <thead>\n",
       "    <tr style=\"text-align: right;\">\n",
       "      <th></th>\n",
       "      <th>0</th>\n",
       "      <th>1</th>\n",
       "      <th>2</th>\n",
       "      <th>3</th>\n",
       "      <th>4</th>\n",
       "      <th>5</th>\n",
       "      <th>6</th>\n",
       "      <th>7</th>\n",
       "      <th>8</th>\n",
       "      <th>9</th>\n",
       "      <th>...</th>\n",
       "      <th>18</th>\n",
       "      <th>19</th>\n",
       "      <th>20</th>\n",
       "      <th>21</th>\n",
       "      <th>22</th>\n",
       "      <th>23</th>\n",
       "      <th>24</th>\n",
       "      <th>25</th>\n",
       "      <th>26</th>\n",
       "      <th>27</th>\n",
       "    </tr>\n",
       "  </thead>\n",
       "  <tbody>\n",
       "    <tr>\n",
       "      <th>0</th>\n",
       "      <td>506.93771</td>\n",
       "      <td>742.165345</td>\n",
       "      <td>530.442081</td>\n",
       "      <td>866.671751</td>\n",
       "      <td>0.175163</td>\n",
       "      <td>0.169320</td>\n",
       "      <td>0.177496</td>\n",
       "      <td>0.170005</td>\n",
       "      <td>0.900115</td>\n",
       "      <td>0.853773</td>\n",
       "      <td>...</td>\n",
       "      <td>2558.0</td>\n",
       "      <td>1.457192</td>\n",
       "      <td>94.966967</td>\n",
       "      <td>2331.0</td>\n",
       "      <td>1.493424</td>\n",
       "      <td>42.337827</td>\n",
       "      <td>2522.0</td>\n",
       "      <td>1.457192</td>\n",
       "      <td>94.966967</td>\n",
       "      <td>2331.0</td>\n",
       "    </tr>\n",
       "    <tr>\n",
       "      <th>1</th>\n",
       "      <td>452.071782</td>\n",
       "      <td>681.159091</td>\n",
       "      <td>506.568929</td>\n",
       "      <td>794.563131</td>\n",
       "      <td>0.161801</td>\n",
       "      <td>0.155731</td>\n",
       "      <td>0.162771</td>\n",
       "      <td>0.155705</td>\n",
       "      <td>0.891290</td>\n",
       "      <td>0.836331</td>\n",
       "      <td>...</td>\n",
       "      <td>2459.0</td>\n",
       "      <td>1.437986</td>\n",
       "      <td>90.326067</td>\n",
       "      <td>2156.0</td>\n",
       "      <td>1.487348</td>\n",
       "      <td>42.582395</td>\n",
       "      <td>2488.0</td>\n",
       "      <td>1.437986</td>\n",
       "      <td>90.326067</td>\n",
       "      <td>2156.0</td>\n",
       "    </tr>\n",
       "    <tr>\n",
       "      <th>2</th>\n",
       "      <td>582.026985</td>\n",
       "      <td>1399.285502</td>\n",
       "      <td>1102.061912</td>\n",
       "      <td>1376.575312</td>\n",
       "      <td>0.142958</td>\n",
       "      <td>0.136409</td>\n",
       "      <td>0.146532</td>\n",
       "      <td>0.136338</td>\n",
       "      <td>0.925417</td>\n",
       "      <td>0.820684</td>\n",
       "      <td>...</td>\n",
       "      <td>2421.0</td>\n",
       "      <td>1.448868</td>\n",
       "      <td>146.854179</td>\n",
       "      <td>1639.0</td>\n",
       "      <td>1.507132</td>\n",
       "      <td>64.738904</td>\n",
       "      <td>2884.0</td>\n",
       "      <td>1.460113</td>\n",
       "      <td>150.130284</td>\n",
       "      <td>1727.0</td>\n",
       "    </tr>\n",
       "    <tr>\n",
       "      <th>3</th>\n",
       "      <td>596.368576</td>\n",
       "      <td>1427.003788</td>\n",
       "      <td>1116.916471</td>\n",
       "      <td>1399.538844</td>\n",
       "      <td>0.137422</td>\n",
       "      <td>0.131195</td>\n",
       "      <td>0.140620</td>\n",
       "      <td>0.130976</td>\n",
       "      <td>0.925253</td>\n",
       "      <td>0.821180</td>\n",
       "      <td>...</td>\n",
       "      <td>2400.0</td>\n",
       "      <td>1.451992</td>\n",
       "      <td>146.087635</td>\n",
       "      <td>1666.0</td>\n",
       "      <td>1.499120</td>\n",
       "      <td>65.412871</td>\n",
       "      <td>2766.0</td>\n",
       "      <td>1.464932</td>\n",
       "      <td>149.259490</td>\n",
       "      <td>1765.0</td>\n",
       "    </tr>\n",
       "    <tr>\n",
       "      <th>4</th>\n",
       "      <td>596.368576</td>\n",
       "      <td>1427.003788</td>\n",
       "      <td>1116.916471</td>\n",
       "      <td>1399.538844</td>\n",
       "      <td>0.137422</td>\n",
       "      <td>0.131195</td>\n",
       "      <td>0.140620</td>\n",
       "      <td>0.130976</td>\n",
       "      <td>0.925253</td>\n",
       "      <td>0.821180</td>\n",
       "      <td>...</td>\n",
       "      <td>2400.0</td>\n",
       "      <td>1.451992</td>\n",
       "      <td>146.087635</td>\n",
       "      <td>1666.0</td>\n",
       "      <td>1.499120</td>\n",
       "      <td>65.412871</td>\n",
       "      <td>2766.0</td>\n",
       "      <td>1.464932</td>\n",
       "      <td>149.259490</td>\n",
       "      <td>1765.0</td>\n",
       "    </tr>\n",
       "    <tr>\n",
       "      <th>...</th>\n",
       "      <td>...</td>\n",
       "      <td>...</td>\n",
       "      <td>...</td>\n",
       "      <td>...</td>\n",
       "      <td>...</td>\n",
       "      <td>...</td>\n",
       "      <td>...</td>\n",
       "      <td>...</td>\n",
       "      <td>...</td>\n",
       "      <td>...</td>\n",
       "      <td>...</td>\n",
       "      <td>...</td>\n",
       "      <td>...</td>\n",
       "      <td>...</td>\n",
       "      <td>...</td>\n",
       "      <td>...</td>\n",
       "      <td>...</td>\n",
       "      <td>...</td>\n",
       "      <td>...</td>\n",
       "      <td>...</td>\n",
       "      <td>...</td>\n",
       "    </tr>\n",
       "    <tr>\n",
       "      <th>495</th>\n",
       "      <td>tumenggung</td>\n",
       "      <td>NaN</td>\n",
       "      <td>NaN</td>\n",
       "      <td>NaN</td>\n",
       "      <td>NaN</td>\n",
       "      <td>NaN</td>\n",
       "      <td>NaN</td>\n",
       "      <td>NaN</td>\n",
       "      <td>NaN</td>\n",
       "      <td>NaN</td>\n",
       "      <td>...</td>\n",
       "      <td>NaN</td>\n",
       "      <td>NaN</td>\n",
       "      <td>NaN</td>\n",
       "      <td>NaN</td>\n",
       "      <td>NaN</td>\n",
       "      <td>NaN</td>\n",
       "      <td>NaN</td>\n",
       "      <td>NaN</td>\n",
       "      <td>NaN</td>\n",
       "      <td>NaN</td>\n",
       "    </tr>\n",
       "    <tr>\n",
       "      <th>496</th>\n",
       "      <td>tumenggung</td>\n",
       "      <td>NaN</td>\n",
       "      <td>NaN</td>\n",
       "      <td>NaN</td>\n",
       "      <td>NaN</td>\n",
       "      <td>NaN</td>\n",
       "      <td>NaN</td>\n",
       "      <td>NaN</td>\n",
       "      <td>NaN</td>\n",
       "      <td>NaN</td>\n",
       "      <td>...</td>\n",
       "      <td>NaN</td>\n",
       "      <td>NaN</td>\n",
       "      <td>NaN</td>\n",
       "      <td>NaN</td>\n",
       "      <td>NaN</td>\n",
       "      <td>NaN</td>\n",
       "      <td>NaN</td>\n",
       "      <td>NaN</td>\n",
       "      <td>NaN</td>\n",
       "      <td>NaN</td>\n",
       "    </tr>\n",
       "    <tr>\n",
       "      <th>497</th>\n",
       "      <td>tumenggung</td>\n",
       "      <td>NaN</td>\n",
       "      <td>NaN</td>\n",
       "      <td>NaN</td>\n",
       "      <td>NaN</td>\n",
       "      <td>NaN</td>\n",
       "      <td>NaN</td>\n",
       "      <td>NaN</td>\n",
       "      <td>NaN</td>\n",
       "      <td>NaN</td>\n",
       "      <td>...</td>\n",
       "      <td>NaN</td>\n",
       "      <td>NaN</td>\n",
       "      <td>NaN</td>\n",
       "      <td>NaN</td>\n",
       "      <td>NaN</td>\n",
       "      <td>NaN</td>\n",
       "      <td>NaN</td>\n",
       "      <td>NaN</td>\n",
       "      <td>NaN</td>\n",
       "      <td>NaN</td>\n",
       "    </tr>\n",
       "    <tr>\n",
       "      <th>498</th>\n",
       "      <td>tumenggung</td>\n",
       "      <td>NaN</td>\n",
       "      <td>NaN</td>\n",
       "      <td>NaN</td>\n",
       "      <td>NaN</td>\n",
       "      <td>NaN</td>\n",
       "      <td>NaN</td>\n",
       "      <td>NaN</td>\n",
       "      <td>NaN</td>\n",
       "      <td>NaN</td>\n",
       "      <td>...</td>\n",
       "      <td>NaN</td>\n",
       "      <td>NaN</td>\n",
       "      <td>NaN</td>\n",
       "      <td>NaN</td>\n",
       "      <td>NaN</td>\n",
       "      <td>NaN</td>\n",
       "      <td>NaN</td>\n",
       "      <td>NaN</td>\n",
       "      <td>NaN</td>\n",
       "      <td>NaN</td>\n",
       "    </tr>\n",
       "    <tr>\n",
       "      <th>499</th>\n",
       "      <td>tumenggung</td>\n",
       "      <td>NaN</td>\n",
       "      <td>NaN</td>\n",
       "      <td>NaN</td>\n",
       "      <td>NaN</td>\n",
       "      <td>NaN</td>\n",
       "      <td>NaN</td>\n",
       "      <td>NaN</td>\n",
       "      <td>NaN</td>\n",
       "      <td>NaN</td>\n",
       "      <td>...</td>\n",
       "      <td>NaN</td>\n",
       "      <td>NaN</td>\n",
       "      <td>NaN</td>\n",
       "      <td>NaN</td>\n",
       "      <td>NaN</td>\n",
       "      <td>NaN</td>\n",
       "      <td>NaN</td>\n",
       "      <td>NaN</td>\n",
       "      <td>NaN</td>\n",
       "      <td>NaN</td>\n",
       "    </tr>\n",
       "  </tbody>\n",
       "</table>\n",
       "<p>3000 rows × 28 columns</p>\n",
       "</div>"
      ],
      "text/plain": [
       "              0            1            2            3         4         5  \\\n",
       "0     506.93771   742.165345   530.442081   866.671751  0.175163  0.169320   \n",
       "1    452.071782   681.159091   506.568929   794.563131  0.161801  0.155731   \n",
       "2    582.026985  1399.285502  1102.061912  1376.575312  0.142958  0.136409   \n",
       "3    596.368576  1427.003788  1116.916471  1399.538844  0.137422  0.131195   \n",
       "4    596.368576  1427.003788  1116.916471  1399.538844  0.137422  0.131195   \n",
       "..          ...          ...          ...          ...       ...       ...   \n",
       "495  tumenggung          NaN          NaN          NaN       NaN       NaN   \n",
       "496  tumenggung          NaN          NaN          NaN       NaN       NaN   \n",
       "497  tumenggung          NaN          NaN          NaN       NaN       NaN   \n",
       "498  tumenggung          NaN          NaN          NaN       NaN       NaN   \n",
       "499  tumenggung          NaN          NaN          NaN       NaN       NaN   \n",
       "\n",
       "            6         7         8         9  ...      18        19  \\\n",
       "0    0.177496  0.170005  0.900115  0.853773  ...  2558.0  1.457192   \n",
       "1    0.162771  0.155705  0.891290  0.836331  ...  2459.0  1.437986   \n",
       "2    0.146532  0.136338  0.925417  0.820684  ...  2421.0  1.448868   \n",
       "3    0.140620  0.130976  0.925253  0.821180  ...  2400.0  1.451992   \n",
       "4    0.140620  0.130976  0.925253  0.821180  ...  2400.0  1.451992   \n",
       "..        ...       ...       ...       ...  ...     ...       ...   \n",
       "495       NaN       NaN       NaN       NaN  ...     NaN       NaN   \n",
       "496       NaN       NaN       NaN       NaN  ...     NaN       NaN   \n",
       "497       NaN       NaN       NaN       NaN  ...     NaN       NaN   \n",
       "498       NaN       NaN       NaN       NaN  ...     NaN       NaN   \n",
       "499       NaN       NaN       NaN       NaN  ...     NaN       NaN   \n",
       "\n",
       "             20      21        22         23      24        25          26  \\\n",
       "0     94.966967  2331.0  1.493424  42.337827  2522.0  1.457192   94.966967   \n",
       "1     90.326067  2156.0  1.487348  42.582395  2488.0  1.437986   90.326067   \n",
       "2    146.854179  1639.0  1.507132  64.738904  2884.0  1.460113  150.130284   \n",
       "3    146.087635  1666.0  1.499120  65.412871  2766.0  1.464932  149.259490   \n",
       "4    146.087635  1666.0  1.499120  65.412871  2766.0  1.464932  149.259490   \n",
       "..          ...     ...       ...        ...     ...       ...         ...   \n",
       "495         NaN     NaN       NaN        NaN     NaN       NaN         NaN   \n",
       "496         NaN     NaN       NaN        NaN     NaN       NaN         NaN   \n",
       "497         NaN     NaN       NaN        NaN     NaN       NaN         NaN   \n",
       "498         NaN     NaN       NaN        NaN     NaN       NaN         NaN   \n",
       "499         NaN     NaN       NaN        NaN     NaN       NaN         NaN   \n",
       "\n",
       "         27  \n",
       "0    2331.0  \n",
       "1    2156.0  \n",
       "2    1727.0  \n",
       "3    1765.0  \n",
       "4    1765.0  \n",
       "..      ...  \n",
       "495     NaN  \n",
       "496     NaN  \n",
       "497     NaN  \n",
       "498     NaN  \n",
       "499     NaN  \n",
       "\n",
       "[3000 rows x 28 columns]"
      ]
     },
     "execution_count": 4,
     "metadata": {},
     "output_type": "execute_result"
    }
   ],
   "source": [
    "combine = [trainData, testData, trainLabels, testLabels]\n",
    "pd.concat(combine)"
   ]
  },
  {
   "cell_type": "code",
   "execution_count": 5,
   "metadata": {},
   "outputs": [
    {
     "name": "stdout",
     "output_type": "stream",
     "text": [
      "['klana' 'pamindo' 'panji' 'rumyang' 'tumenggung']\n"
     ]
    }
   ],
   "source": [
    "labels = trainLabels.iloc[:,0].unique()\n",
    "print(labels)"
   ]
  },
  {
   "cell_type": "markdown",
   "metadata": {},
   "source": [
    "## Exploratory Data Analysis"
   ]
  },
  {
   "cell_type": "code",
   "execution_count": 6,
   "metadata": {},
   "outputs": [],
   "source": [
    "# Transform images to array\n",
    "train = np.array(trainData)\n",
    "test = np.array(testData)\n",
    "train_label = np.array(trainLabels)\n",
    "test_label = np.array(testLabels)"
   ]
  },
  {
   "cell_type": "code",
   "execution_count": 7,
   "metadata": {},
   "outputs": [
    {
     "name": "stdout",
     "output_type": "stream",
     "text": [
      "[[5.06937710e+02 7.42165345e+02 5.30442081e+02 ... 1.45719228e+00\n",
      "  9.49669670e+01 2.33100000e+03]\n",
      " [4.52071782e+02 6.81159091e+02 5.06568929e+02 ... 1.43798618e+00\n",
      "  9.03260668e+01 2.15600000e+03]\n",
      " [5.82026985e+02 1.39928550e+03 1.10206191e+03 ... 1.46011291e+00\n",
      "  1.50130284e+02 1.72700000e+03]\n",
      " ...\n",
      " [4.46644395e+02 6.37968278e+02 3.85697438e+02 ... 1.52637219e+00\n",
      "  9.50370821e+01 1.64500000e+03]\n",
      " [4.49162941e+02 6.45556641e+02 3.87452975e+02 ... 1.52869730e+00\n",
      "  9.48435252e+01 1.66800000e+03]\n",
      " [4.44997268e+02 6.43593455e+02 3.83911488e+02 ... 1.52466067e+00\n",
      "  9.46614078e+01 1.64800000e+03]]\n"
     ]
    }
   ],
   "source": [
    "X_train = train\n",
    "y_train = train_label\n",
    "print(X_train)"
   ]
  },
  {
   "cell_type": "code",
   "execution_count": 8,
   "metadata": {},
   "outputs": [
    {
     "name": "stdout",
     "output_type": "stream",
     "text": [
      "[[5.58547740e+02 1.35721732e+03 1.06799301e+03 ... 1.45167327e+00\n",
      "  1.53548214e+02 1.68000000e+03]\n",
      " [5.62985216e+02 1.15489362e+03 8.22010275e+02 ... 1.53278751e+00\n",
      "  1.17363369e+02 1.69800000e+03]\n",
      " [5.35636364e+02 1.10712571e+03 8.41116204e+02 ... 1.44759703e+00\n",
      "  1.08575566e+02 2.21000000e+03]\n",
      " ...\n",
      " [4.08515069e+02 5.85187117e+02 3.44793607e+02 ... 1.51368368e+00\n",
      "  9.22354818e+01 1.56700000e+03]\n",
      " [2.78772076e+02 4.02728176e+02 2.48906098e+02 ... 1.49467404e+00\n",
      "  7.27611111e+01 1.44000000e+03]\n",
      " [5.44190665e+02 8.06012556e+02 4.86501806e+02 ... 1.43150173e+00\n",
      "  1.01120352e+02 2.04400000e+03]]\n"
     ]
    }
   ],
   "source": [
    "X_test = test\n",
    "y_test = test_label\n",
    "print(X_test)"
   ]
  },
  {
   "cell_type": "markdown",
   "metadata": {},
   "source": [
    "### Normalization Data"
   ]
  },
  {
   "cell_type": "code",
   "execution_count": 9,
   "metadata": {},
   "outputs": [
    {
     "name": "stdout",
     "output_type": "stream",
     "text": [
      "(1000, 28)\n",
      "(500, 28)\n"
     ]
    }
   ],
   "source": [
    "# Normalize the feature data\n",
    "X_train = X_train.astype('float32') / 255.0\n",
    "X_test = X_test.astype('float32') / 255.0\n",
    "print(X_train.shape)\n",
    "print(X_test.shape)"
   ]
  },
  {
   "cell_type": "markdown",
   "metadata": {},
   "source": [
    "### Encode Labels"
   ]
  },
  {
   "cell_type": "code",
   "execution_count": 10,
   "metadata": {},
   "outputs": [
    {
     "name": "stdout",
     "output_type": "stream",
     "text": [
      "[0 0 0 0 0 0 0 0 0 0 0 0 0 0 0 0 0 0 0 0 0 0 0 0 0 0 0 0 0 0 0 0 0 0 0 0 0\n",
      " 0 0 0 0 0 0 0 0 0 0 0 0 0 0 0 0 0 0 0 0 0 0 0 0 0 0 0 0 0 0 0 0 0 0 0 0 0\n",
      " 0 0 0 0 0 0 0 0 0 0 0 0 0 0 0 0 0 0 0 0 0 0 0 0 0 0 0 0 0 0 0 0 0 0 0 0 0\n",
      " 0 0 0 0 0 0 0 0 0 0 0 0 0 0 0 0 0 0 0 0 0 0 0 0 0 0 0 0 0 0 0 0 0 0 0 0 0\n",
      " 0 0 0 0 0 0 0 0 0 0 0 0 0 0 0 0 0 0 0 0 0 0 0 0 0 0 0 0 0 0 0 0 0 0 0 0 0\n",
      " 0 0 0 0 0 0 0 0 0 0 0 0 0 0 0 1 1 1 1 1 1 1 1 1 1 1 1 1 1 1 1 1 1 1 1 1 1\n",
      " 1 1 1 1 1 1 1 1 1 1 1 1 1 1 1 1 1 1 1 1 1 1 1 1 1 1 1 1 1 1 1 1 1 1 1 1 1\n",
      " 1 1 1 1 1 1 1 1 1 1 1 1 1 1 1 1 1 1 1 1 1 1 1 1 1 1 1 1 1 1 1 1 1 1 1 1 1\n",
      " 1 1 1 1 1 1 1 1 1 1 1 1 1 1 1 1 1 1 1 1 1 1 1 1 1 1 1 1 1 1 1 1 1 1 1 1 1\n",
      " 1 1 1 1 1 1 1 1 1 1 1 1 1 1 1 1 1 1 1 1 1 1 1 1 1 1 1 1 1 1 1 1 1 1 1 1 1\n",
      " 1 1 1 1 1 1 1 1 1 1 1 1 1 1 1 1 1 1 1 1 1 1 1 1 1 1 1 1 1 1 2 2 2 2 2 2 2\n",
      " 2 2 2 2 2 2 2 2 2 2 2 2 2 2 2 2 2 2 2 2 2 2 2 2 2 2 2 2 2 2 2 2 2 2 2 2 2\n",
      " 2 2 2 2 2 2 2 2 2 2 2 2 2 2 2 2 2 2 2 2 2 2 2 2 2 2 2 2 2 2 2 2 2 2 2 2 2\n",
      " 2 2 2 2 2 2 2 2 2 2 2 2 2 2 2 2 2 2 2 2 2 2 2 2 2 2 2 2 2 2 2 2 2 2 2 2 2\n",
      " 2 2 2 2 2 2 2 2 2 2 2 2 2 2 2 2 2 2 2 2 2 2 2 2 2 2 2 2 2 2 2 2 2 2 2 2 2\n",
      " 2 2 2 2 2 2 2 2 2 2 2 2 2 2 2 2 2 2 2 2 2 2 2 2 2 2 2 2 2 2 2 2 2 2 2 2 2\n",
      " 2 2 2 2 2 2 2 2 3 3 3 3 3 3 3 3 3 3 3 3 3 3 3 3 3 3 3 3 3 3 3 3 3 3 3 3 3\n",
      " 3 3 3 3 3 3 3 3 3 3 3 3 3 3 3 3 3 3 3 3 3 3 3 3 3 3 3 3 3 3 3 3 3 3 3 3 3\n",
      " 3 3 3 3 3 3 3 3 3 3 3 3 3 3 3 3 3 3 3 3 3 3 3 3 3 3 3 3 3 3 3 3 3 3 3 3 3\n",
      " 3 3 3 3 3 3 3 3 3 3 3 3 3 3 3 3 3 3 3 3 3 3 3 3 3 3 3 3 3 3 3 3 3 3 3 3 3\n",
      " 3 3 3 3 3 3 3 3 3 3 3 3 3 3 3 3 3 3 3 3 3 3 3 3 3 3 3 3 3 3 3 3 3 3 3 3 3\n",
      " 3 3 3 3 3 3 3 3 3 3 3 3 3 3 3 3 3 3 3 3 3 3 3 4 4 4 4 4 4 4 4 4 4 4 4 4 4\n",
      " 4 4 4 4 4 4 4 4 4 4 4 4 4 4 4 4 4 4 4 4 4 4 4 4 4 4 4 4 4 4 4 4 4 4 4 4 4\n",
      " 4 4 4 4 4 4 4 4 4 4 4 4 4 4 4 4 4 4 4 4 4 4 4 4 4 4 4 4 4 4 4 4 4 4 4 4 4\n",
      " 4 4 4 4 4 4 4 4 4 4 4 4 4 4 4 4 4 4 4 4 4 4 4 4 4 4 4 4 4 4 4 4 4 4 4 4 4\n",
      " 4 4 4 4 4 4 4 4 4 4 4 4 4 4 4 4 4 4 4 4 4 4 4 4 4 4 4 4 4 4 4 4 4 4 4 4 4\n",
      " 4 4 4 4 4 4 4 4 4 4 4 4 4 4 4 4 4 4 4 4 4 4 4 4 4 4 4 4 4 4 4 4 4 4 4 4 4\n",
      " 4]\n"
     ]
    }
   ],
   "source": [
    "# Encode the labels\n",
    "label_encoder = LabelEncoder()\n",
    "y = label_encoder.fit_transform(y_train[:,0])\n",
    "print(y)"
   ]
  },
  {
   "cell_type": "markdown",
   "metadata": {},
   "source": [
    "### Feature Scaling"
   ]
  },
  {
   "cell_type": "code",
   "execution_count": 11,
   "metadata": {},
   "outputs": [
    {
     "name": "stdout",
     "output_type": "stream",
     "text": [
      "[[ 0.48636612 -0.46213073 -0.39995366 ...  0.7716364  -1.3010662\n",
      "   2.2166388 ]\n",
      " [ 0.00774367 -0.6631873  -0.4906403  ...  0.5133294  -1.4669949\n",
      "   1.7250417 ]\n",
      " [ 1.141407    1.7035221   1.771455   ...  0.8109163   0.6712162\n",
      "   0.5199271 ]\n",
      " ...\n",
      " [-0.03960183 -0.8055302  -0.9497941  ...  1.7020465  -1.2985594\n",
      "   0.2895786 ]\n",
      " [-0.01763167 -0.7805213  -0.9431255  ...  1.7333174  -1.3054796\n",
      "   0.3541885 ]\n",
      " [-0.05397086 -0.7869913  -0.95657843 ...  1.679029   -1.311991\n",
      "   0.29800618]]\n"
     ]
    }
   ],
   "source": [
    "# Standardize features\n",
    "scaler = StandardScaler()\n",
    "X_scaled = scaler.fit_transform(X_train)\n",
    "print(X_scaled)"
   ]
  },
  {
   "cell_type": "markdown",
   "metadata": {},
   "source": [
    "## Splitting Data"
   ]
  },
  {
   "cell_type": "code",
   "execution_count": 12,
   "metadata": {},
   "outputs": [
    {
     "name": "stdout",
     "output_type": "stream",
     "text": [
      "Data Training :  (800, 28) (800,)\n",
      "Data Testing :  (200, 28) (200,)\n"
     ]
    }
   ],
   "source": [
    "# Split the data into training and testing sets\n",
    "X_train, X_test, y_train, y_test = train_test_split(X_scaled, y, test_size = 0.2, random_state = 42, stratify= y)\n",
    "\n",
    "print(\"Data Training : \", X_train.shape, y_train.shape)\n",
    "print(\"Data Testing : \", X_test.shape, y_test.shape)"
   ]
  },
  {
   "cell_type": "markdown",
   "metadata": {},
   "source": [
    "## Reshape Data"
   ]
  },
  {
   "cell_type": "code",
   "execution_count": 13,
   "metadata": {},
   "outputs": [
    {
     "name": "stdout",
     "output_type": "stream",
     "text": [
      "Data Training with Shape : ((800, 28, 1), (800,))\n",
      "Data Testing with Shape : ((200, 28, 1), (200,))\n"
     ]
    }
   ],
   "source": [
    "# Reshape data for MLP Neural Network\n",
    "X_train = X_train.reshape(X_train.shape[0], X_train.shape[1], 1)\n",
    "X_test = X_test.reshape(X_test.shape[0], X_test.shape[1], 1)\n",
    "\n",
    "# Print shape the data\n",
    "print(f'Data Training with Shape : {X_train.shape, y_train.shape}')\n",
    "print(f'Data Testing with Shape : {X_test.shape, y_test.shape}')"
   ]
  },
  {
   "cell_type": "markdown",
   "metadata": {},
   "source": [
    "## One Hot Encoding"
   ]
  },
  {
   "cell_type": "code",
   "execution_count": 14,
   "metadata": {},
   "outputs": [
    {
     "data": {
      "text/plain": [
       "array([[0., 0., 1., 0., 0.],\n",
       "       [1., 0., 0., 0., 0.],\n",
       "       [0., 1., 0., 0., 0.],\n",
       "       [0., 1., 0., 0., 0.],\n",
       "       [0., 0., 0., 1., 0.],\n",
       "       [1., 0., 0., 0., 0.],\n",
       "       [0., 0., 1., 0., 0.],\n",
       "       [0., 0., 0., 1., 0.],\n",
       "       [0., 0., 1., 0., 0.],\n",
       "       [0., 0., 0., 0., 1.],\n",
       "       [1., 0., 0., 0., 0.],\n",
       "       [0., 0., 1., 0., 0.],\n",
       "       [1., 0., 0., 0., 0.],\n",
       "       [0., 0., 0., 1., 0.],\n",
       "       [1., 0., 0., 0., 0.],\n",
       "       [0., 0., 0., 1., 0.],\n",
       "       [0., 1., 0., 0., 0.],\n",
       "       [0., 0., 0., 0., 1.],\n",
       "       [0., 1., 0., 0., 0.],\n",
       "       [1., 0., 0., 0., 0.],\n",
       "       [0., 0., 0., 0., 1.],\n",
       "       [0., 0., 1., 0., 0.],\n",
       "       [0., 0., 0., 0., 1.],\n",
       "       [0., 0., 0., 0., 1.],\n",
       "       [1., 0., 0., 0., 0.],\n",
       "       [0., 0., 1., 0., 0.],\n",
       "       [0., 1., 0., 0., 0.],\n",
       "       [0., 1., 0., 0., 0.],\n",
       "       [0., 0., 0., 1., 0.],\n",
       "       [1., 0., 0., 0., 0.],\n",
       "       [0., 1., 0., 0., 0.],\n",
       "       [0., 0., 1., 0., 0.],\n",
       "       [1., 0., 0., 0., 0.],\n",
       "       [0., 0., 0., 1., 0.],\n",
       "       [1., 0., 0., 0., 0.],\n",
       "       [0., 0., 0., 1., 0.],\n",
       "       [0., 0., 1., 0., 0.],\n",
       "       [0., 1., 0., 0., 0.],\n",
       "       [1., 0., 0., 0., 0.],\n",
       "       [1., 0., 0., 0., 0.],\n",
       "       [0., 0., 1., 0., 0.],\n",
       "       [0., 1., 0., 0., 0.],\n",
       "       [1., 0., 0., 0., 0.],\n",
       "       [0., 0., 0., 1., 0.],\n",
       "       [0., 1., 0., 0., 0.],\n",
       "       [0., 1., 0., 0., 0.],\n",
       "       [0., 0., 0., 0., 1.],\n",
       "       [0., 0., 1., 0., 0.],\n",
       "       [0., 0., 0., 1., 0.],\n",
       "       [0., 1., 0., 0., 0.],\n",
       "       [1., 0., 0., 0., 0.],\n",
       "       [0., 0., 0., 1., 0.],\n",
       "       [0., 0., 0., 1., 0.],\n",
       "       [0., 0., 1., 0., 0.],\n",
       "       [1., 0., 0., 0., 0.],\n",
       "       [0., 0., 1., 0., 0.],\n",
       "       [0., 0., 0., 1., 0.],\n",
       "       [0., 0., 0., 0., 1.],\n",
       "       [0., 0., 1., 0., 0.],\n",
       "       [0., 0., 1., 0., 0.],\n",
       "       [0., 0., 1., 0., 0.],\n",
       "       [0., 0., 0., 1., 0.],\n",
       "       [0., 0., 0., 0., 1.],\n",
       "       [0., 0., 0., 1., 0.],\n",
       "       [0., 0., 0., 0., 1.],\n",
       "       [0., 0., 0., 0., 1.],\n",
       "       [0., 0., 1., 0., 0.],\n",
       "       [0., 1., 0., 0., 0.],\n",
       "       [0., 0., 1., 0., 0.],\n",
       "       [0., 0., 0., 1., 0.],\n",
       "       [0., 1., 0., 0., 0.],\n",
       "       [1., 0., 0., 0., 0.],\n",
       "       [0., 0., 0., 1., 0.],\n",
       "       [0., 0., 0., 0., 1.],\n",
       "       [0., 0., 0., 1., 0.],\n",
       "       [0., 0., 0., 0., 1.],\n",
       "       [0., 0., 1., 0., 0.],\n",
       "       [1., 0., 0., 0., 0.],\n",
       "       [0., 0., 0., 1., 0.],\n",
       "       [0., 0., 1., 0., 0.],\n",
       "       [0., 0., 1., 0., 0.],\n",
       "       [0., 1., 0., 0., 0.],\n",
       "       [0., 0., 0., 1., 0.],\n",
       "       [0., 0., 0., 1., 0.],\n",
       "       [0., 0., 0., 0., 1.],\n",
       "       [0., 1., 0., 0., 0.],\n",
       "       [0., 0., 0., 0., 1.],\n",
       "       [0., 0., 0., 0., 1.],\n",
       "       [0., 0., 0., 0., 1.],\n",
       "       [0., 0., 0., 1., 0.],\n",
       "       [0., 1., 0., 0., 0.],\n",
       "       [0., 0., 0., 0., 1.],\n",
       "       [0., 0., 0., 0., 1.],\n",
       "       [0., 0., 1., 0., 0.],\n",
       "       [0., 0., 1., 0., 0.],\n",
       "       [0., 0., 0., 1., 0.],\n",
       "       [0., 0., 0., 0., 1.],\n",
       "       [0., 0., 0., 1., 0.],\n",
       "       [0., 1., 0., 0., 0.],\n",
       "       [0., 1., 0., 0., 0.],\n",
       "       [0., 0., 1., 0., 0.],\n",
       "       [0., 0., 1., 0., 0.],\n",
       "       [0., 1., 0., 0., 0.],\n",
       "       [0., 0., 0., 0., 1.],\n",
       "       [0., 0., 0., 0., 1.],\n",
       "       [0., 0., 0., 1., 0.],\n",
       "       [1., 0., 0., 0., 0.],\n",
       "       [0., 0., 0., 0., 1.],\n",
       "       [0., 0., 0., 0., 1.],\n",
       "       [0., 0., 0., 1., 0.],\n",
       "       [0., 0., 0., 0., 1.],\n",
       "       [0., 0., 0., 0., 1.],\n",
       "       [0., 1., 0., 0., 0.],\n",
       "       [0., 1., 0., 0., 0.],\n",
       "       [0., 0., 0., 1., 0.],\n",
       "       [0., 1., 0., 0., 0.],\n",
       "       [1., 0., 0., 0., 0.],\n",
       "       [1., 0., 0., 0., 0.],\n",
       "       [1., 0., 0., 0., 0.],\n",
       "       [0., 1., 0., 0., 0.],\n",
       "       [1., 0., 0., 0., 0.],\n",
       "       [0., 1., 0., 0., 0.],\n",
       "       [1., 0., 0., 0., 0.],\n",
       "       [0., 0., 0., 0., 1.],\n",
       "       [0., 0., 0., 0., 1.],\n",
       "       [0., 0., 0., 1., 0.],\n",
       "       [0., 1., 0., 0., 0.],\n",
       "       [0., 0., 0., 1., 0.],\n",
       "       [1., 0., 0., 0., 0.],\n",
       "       [0., 0., 0., 0., 1.],\n",
       "       [1., 0., 0., 0., 0.],\n",
       "       [0., 0., 1., 0., 0.],\n",
       "       [0., 0., 0., 1., 0.],\n",
       "       [0., 1., 0., 0., 0.],\n",
       "       [0., 0., 0., 1., 0.],\n",
       "       [0., 0., 1., 0., 0.],\n",
       "       [0., 0., 0., 0., 1.],\n",
       "       [0., 0., 1., 0., 0.],\n",
       "       [0., 0., 0., 0., 1.],\n",
       "       [0., 1., 0., 0., 0.],\n",
       "       [0., 1., 0., 0., 0.],\n",
       "       [0., 1., 0., 0., 0.],\n",
       "       [0., 1., 0., 0., 0.],\n",
       "       [0., 0., 0., 0., 1.],\n",
       "       [0., 0., 1., 0., 0.],\n",
       "       [1., 0., 0., 0., 0.],\n",
       "       [0., 1., 0., 0., 0.],\n",
       "       [1., 0., 0., 0., 0.],\n",
       "       [0., 1., 0., 0., 0.],\n",
       "       [0., 0., 1., 0., 0.],\n",
       "       [0., 0., 1., 0., 0.],\n",
       "       [1., 0., 0., 0., 0.],\n",
       "       [1., 0., 0., 0., 0.],\n",
       "       [0., 0., 1., 0., 0.],\n",
       "       [0., 0., 0., 1., 0.],\n",
       "       [1., 0., 0., 0., 0.],\n",
       "       [1., 0., 0., 0., 0.],\n",
       "       [1., 0., 0., 0., 0.],\n",
       "       [0., 0., 0., 0., 1.],\n",
       "       [1., 0., 0., 0., 0.],\n",
       "       [0., 0., 0., 1., 0.],\n",
       "       [0., 0., 1., 0., 0.],\n",
       "       [1., 0., 0., 0., 0.],\n",
       "       [1., 0., 0., 0., 0.],\n",
       "       [0., 0., 0., 0., 1.],\n",
       "       [0., 0., 0., 0., 1.],\n",
       "       [0., 1., 0., 0., 0.],\n",
       "       [0., 1., 0., 0., 0.],\n",
       "       [0., 0., 1., 0., 0.],\n",
       "       [0., 0., 1., 0., 0.],\n",
       "       [0., 0., 0., 0., 1.],\n",
       "       [0., 0., 0., 0., 1.],\n",
       "       [0., 0., 0., 0., 1.],\n",
       "       [0., 1., 0., 0., 0.],\n",
       "       [0., 0., 0., 1., 0.],\n",
       "       [1., 0., 0., 0., 0.],\n",
       "       [0., 0., 0., 1., 0.],\n",
       "       [0., 0., 1., 0., 0.],\n",
       "       [1., 0., 0., 0., 0.],\n",
       "       [0., 0., 0., 0., 1.],\n",
       "       [0., 0., 0., 1., 0.],\n",
       "       [1., 0., 0., 0., 0.],\n",
       "       [0., 0., 0., 1., 0.],\n",
       "       [0., 0., 1., 0., 0.],\n",
       "       [0., 1., 0., 0., 0.],\n",
       "       [0., 1., 0., 0., 0.],\n",
       "       [0., 0., 0., 1., 0.],\n",
       "       [0., 0., 1., 0., 0.],\n",
       "       [0., 0., 0., 0., 1.],\n",
       "       [0., 0., 1., 0., 0.],\n",
       "       [0., 0., 0., 0., 1.],\n",
       "       [1., 0., 0., 0., 0.],\n",
       "       [0., 0., 0., 1., 0.],\n",
       "       [0., 0., 0., 1., 0.],\n",
       "       [0., 1., 0., 0., 0.],\n",
       "       [0., 0., 1., 0., 0.],\n",
       "       [0., 1., 0., 0., 0.],\n",
       "       [0., 0., 1., 0., 0.],\n",
       "       [1., 0., 0., 0., 0.],\n",
       "       [0., 0., 0., 1., 0.]], dtype=float32)"
      ]
     },
     "execution_count": 14,
     "metadata": {},
     "output_type": "execute_result"
    }
   ],
   "source": [
    "# One-hot encode the target data\n",
    "y_train_onehot = to_categorical(y_train, num_classes=5)\n",
    "y_test_onehot = to_categorical(y_test, num_classes=5)\n",
    "y_test_onehot"
   ]
  },
  {
   "cell_type": "markdown",
   "metadata": {},
   "source": [
    "## Modelling With Neural Network"
   ]
  },
  {
   "cell_type": "code",
   "execution_count": 23,
   "metadata": {},
   "outputs": [
    {
     "name": "stdout",
     "output_type": "stream",
     "text": [
      "Model: \"sequential_2\"\n",
      "_________________________________________________________________\n",
      " Layer (type)                Output Shape              Param #   \n",
      "=================================================================\n",
      " dense_6 (Dense)             (None, 64)                1856      \n",
      "                                                                 \n",
      " dropout_4 (Dropout)         (None, 64)                0         \n",
      "                                                                 \n",
      " dense_7 (Dense)             (None, 5)                 325       \n",
      "                                                                 \n",
      "=================================================================\n",
      "Total params: 2181 (8.52 KB)\n",
      "Trainable params: 2181 (8.52 KB)\n",
      "Non-trainable params: 0 (0.00 Byte)\n",
      "_________________________________________________________________\n"
     ]
    }
   ],
   "source": [
    "# Modelling with MLP Neural Network\n",
    "num_classes = 5\n",
    "\n",
    "model = Sequential()\n",
    "\n",
    "model.add(Dense(64, activation = 'relu', input_shape = (X_train.shape[1],)))\n",
    "model.add(Dropout(0.4))\n",
    "model.add(Dense(num_classes, activation = 'softmax'))\n",
    "\n",
    "model.summary()"
   ]
  },
  {
   "cell_type": "code",
   "execution_count": 24,
   "metadata": {},
   "outputs": [
    {
     "data": {
      "image/png": "[encoded data removed]",
      "text/plain": [
       "<IPython.core.display.Image object>"
      ]
     },
     "execution_count": 24,
     "metadata": {},
     "output_type": "execute_result"
    }
   ],
   "source": [
    "# Create plot model from define model NN\n",
    "tf.keras.utils.plot_model(model, to_file='model/model_nn.png', show_shapes=True, show_layer_names=True)"
   ]
  },
  {
   "cell_type": "code",
   "execution_count": 27,
   "metadata": {},
   "outputs": [],
   "source": [
    "model.compile(loss='categorical_crossentropy', optimizer='adam', metrics=['accuracy'])"
   ]
  },
  {
   "cell_type": "code",
   "execution_count": 28,
   "metadata": {},
   "outputs": [
    {
     "name": "stdout",
     "output_type": "stream",
     "text": [
      "Epoch 1/20\n",
      "13/13 [==============================] - 1s 27ms/step - loss: 1.7027 - accuracy: 0.1950 - val_loss: 1.1818 - val_accuracy: 0.5650\n",
      "Epoch 2/20\n",
      "13/13 [==============================] - 0s 15ms/step - loss: 1.0807 - accuracy: 0.5825 - val_loss: 0.7690 - val_accuracy: 0.7800\n",
      "Epoch 3/20\n",
      "13/13 [==============================] - 0s 9ms/step - loss: 0.7298 - accuracy: 0.7887 - val_loss: 0.5755 - val_accuracy: 0.8300\n",
      "Epoch 4/20\n",
      "13/13 [==============================] - 0s 9ms/step - loss: 0.5981 - accuracy: 0.8300 - val_loss: 0.4636 - val_accuracy: 0.8600\n",
      "Epoch 5/20\n",
      "13/13 [==============================] - 0s 8ms/step - loss: 0.4703 - accuracy: 0.8825 - val_loss: 0.3854 - val_accuracy: 0.9050\n",
      "Epoch 6/20\n",
      "13/13 [==============================] - 0s 8ms/step - loss: 0.3929 - accuracy: 0.9112 - val_loss: 0.3271 - val_accuracy: 0.9200\n",
      "Epoch 7/20\n",
      "13/13 [==============================] - 0s 8ms/step - loss: 0.3534 - accuracy: 0.9200 - val_loss: 0.2794 - val_accuracy: 0.9200\n",
      "Epoch 8/20\n",
      "13/13 [==============================] - 0s 9ms/step - loss: 0.3265 - accuracy: 0.9112 - val_loss: 0.2401 - val_accuracy: 0.9250\n",
      "Epoch 9/20\n",
      "13/13 [==============================] - 0s 6ms/step - loss: 0.2714 - accuracy: 0.9312 - val_loss: 0.2100 - val_accuracy: 0.9350\n",
      "Epoch 10/20\n",
      "13/13 [==============================] - 0s 7ms/step - loss: 0.2364 - accuracy: 0.9400 - val_loss: 0.1854 - val_accuracy: 0.9350\n",
      "Epoch 11/20\n",
      "13/13 [==============================] - 0s 6ms/step - loss: 0.2009 - accuracy: 0.9588 - val_loss: 0.1658 - val_accuracy: 0.9600\n",
      "Epoch 12/20\n",
      "13/13 [==============================] - 0s 7ms/step - loss: 0.1956 - accuracy: 0.9563 - val_loss: 0.1479 - val_accuracy: 0.9750\n",
      "Epoch 13/20\n",
      "13/13 [==============================] - 0s 5ms/step - loss: 0.1736 - accuracy: 0.9625 - val_loss: 0.1327 - val_accuracy: 0.9800\n",
      "Epoch 14/20\n",
      "13/13 [==============================] - 0s 6ms/step - loss: 0.1684 - accuracy: 0.9625 - val_loss: 0.1196 - val_accuracy: 0.9850\n",
      "Epoch 15/20\n",
      "13/13 [==============================] - 0s 5ms/step - loss: 0.1420 - accuracy: 0.9675 - val_loss: 0.1080 - val_accuracy: 0.9850\n",
      "Epoch 16/20\n",
      "13/13 [==============================] - 0s 6ms/step - loss: 0.1401 - accuracy: 0.9700 - val_loss: 0.0985 - val_accuracy: 0.9850\n",
      "Epoch 17/20\n",
      "13/13 [==============================] - 0s 6ms/step - loss: 0.1213 - accuracy: 0.9862 - val_loss: 0.0898 - val_accuracy: 0.9850\n",
      "Epoch 18/20\n",
      "13/13 [==============================] - 0s 7ms/step - loss: 0.1147 - accuracy: 0.9750 - val_loss: 0.0837 - val_accuracy: 0.9850\n",
      "Epoch 19/20\n",
      "13/13 [==============================] - 0s 6ms/step - loss: 0.1097 - accuracy: 0.9812 - val_loss: 0.0759 - val_accuracy: 0.9850\n",
      "Epoch 20/20\n",
      "13/13 [==============================] - 0s 5ms/step - loss: 0.0997 - accuracy: 0.9812 - val_loss: 0.0690 - val_accuracy: 0.9850\n"
     ]
    }
   ],
   "source": [
    "# Train the model\n",
    "EPOCHS = 20\n",
    "BATCH_SIZE = 64\n",
    "\n",
    "history = model.fit(X_train, y_train_onehot, \n",
    "                    epochs = EPOCHS,\n",
    "                    batch_size = BATCH_SIZE,\n",
    "                    validation_data=(X_test, y_test_onehot), \n",
    "                    verbose = 1)"
   ]
  },
  {
   "cell_type": "markdown",
   "metadata": {},
   "source": [
    "## Evaluation Model"
   ]
  },
  {
   "cell_type": "code",
   "execution_count": 29,
   "metadata": {},
   "outputs": [
    {
     "name": "stdout",
     "output_type": "stream",
     "text": [
      "7/7 [==============================] - 0s 2ms/step - loss: 0.0690 - accuracy: 0.9850\n",
      "Loss: 0.0690\n",
      "Accuracy: 0.9850\n"
     ]
    }
   ],
   "source": [
    "# Evaluate the Model\n",
    "score = model.evaluate(X_test, y_test_onehot)\n",
    "\n",
    "print('Loss: {:.4f}'.format(score[0]))\n",
    "print('Accuracy: {:.4f}'.format(score[1]))"
   ]
  },
  {
   "cell_type": "markdown",
   "metadata": {},
   "source": [
    "### Accuracy and Loss Plot"
   ]
  },
  {
   "cell_type": "code",
   "execution_count": 30,
   "metadata": {},
   "outputs": [
    {
     "data": {
      "image/png": "[encoded data removed]",
      "text/plain": [
       "<Figure size 1400x500 with 2 Axes>"
      ]
     },
     "metadata": {},
     "output_type": "display_data"
    }
   ],
   "source": [
    "acc = history.history['accuracy']\n",
    "val_acc = history.history['val_accuracy']\n",
    "\n",
    "loss = history.history['loss']\n",
    "val_loss = history.history['val_loss']\n",
    "\n",
    "epochs_range = range(EPOCHS)\n",
    "\n",
    "plt.figure(figsize=(14, 5))\n",
    "plt.subplot(1, 2, 1)\n",
    "plt.plot(epochs_range, acc, label='Training Accuracy')\n",
    "plt.plot(epochs_range, val_acc, label='Validation Accuracy')\n",
    "plt.legend(loc='lower right')\n",
    "plt.title('Training and Validation Accuracy')\n",
    "\n",
    "plt.subplot(1, 2, 2)\n",
    "plt.plot(epochs_range, loss, label='Training Loss')\n",
    "plt.plot(epochs_range, val_loss, label='Validation Loss')\n",
    "plt.legend(loc='upper right')\n",
    "plt.title('Training and Validation Loss')\n",
    "plt.show()"
   ]
  },
  {
   "cell_type": "markdown",
   "metadata": {},
   "source": [
    "### Confusion Matrix"
   ]
  },
  {
   "cell_type": "code",
   "execution_count": 31,
   "metadata": {},
   "outputs": [
    {
     "name": "stdout",
     "output_type": "stream",
     "text": [
      "7/7 [==============================] - 0s 2ms/step\n"
     ]
    },
    {
     "data": {
      "image/png": "[encoded data removed]",
      "text/plain": [
       "<Figure size 2500x2000 with 1 Axes>"
      ]
     },
     "metadata": {},
     "output_type": "display_data"
    }
   ],
   "source": [
    "# Get Model Predictions for test data\n",
    "class_names = ['Klana',\n",
    "               'Pamindo',\n",
    "               'Panji',\n",
    "               'Rumyang',\n",
    "               'Tumenggung']\n",
    "\n",
    "# Plotting a confusion matrix for checking the performance of our model\n",
    "Y_pred = np.argmax(model.predict(X_test), axis = 1)\n",
    "cm = confusion_matrix(y_test, Y_pred, labels=np.unique(y_test), sample_weight=None)\n",
    "\n",
    "df_cm = pd.DataFrame(cm, class_names, class_names)\n",
    "sns.set(font_scale = 2)\n",
    "plt.figure(figsize = (25, 20))\n",
    "sns.heatmap(df_cm, annot = True, linewidths = 0.8, fmt = '0.4g', cbar = False)\n",
    "plt.title(\"Confusion Matrix for Cirebon Mask Classification Using Combined Texture Feature and Neural Network\")\n",
    "plt.xlabel(\"True Values\")\n",
    "plt.ylabel(\"Prediction Values\")\n",
    "plt.show()"
   ]
  },
  {
   "cell_type": "markdown",
   "metadata": {},
   "source": [
    "### Classification Report"
   ]
  },
  {
   "cell_type": "code",
   "execution_count": 32,
   "metadata": {},
   "outputs": [
    {
     "name": "stdout",
     "output_type": "stream",
     "text": [
      "              precision    recall  f1-score   support\n",
      "\n",
      "       Klana       1.00      1.00      1.00        40\n",
      "     Pamindo       0.93      1.00      0.96        40\n",
      "       Panji       1.00      1.00      1.00        40\n",
      "     Rumyang       1.00      1.00      1.00        40\n",
      "  Tumenggung       1.00      0.93      0.96        40\n",
      "\n",
      "    accuracy                           0.98       200\n",
      "   macro avg       0.99      0.98      0.98       200\n",
      "weighted avg       0.99      0.98      0.98       200\n",
      "\n"
     ]
    }
   ],
   "source": [
    "# Evaluate Model from Classification Report\n",
    "print(classification_report(y_test, Y_pred, target_names = class_names))"
   ]
  },
  {
   "cell_type": "markdown",
   "metadata": {},
   "source": [
    "## Reporting Model"
   ]
  },
  {
   "cell_type": "code",
   "execution_count": 33,
   "metadata": {},
   "outputs": [
    {
     "data": {
      "text/html": [
       "<div>\n",
       "<style scoped>\n",
       "    .dataframe tbody tr th:only-of-type {\n",
       "        vertical-align: middle;\n",
       "    }\n",
       "\n",
       "    .dataframe tbody tr th {\n",
       "        vertical-align: top;\n",
       "    }\n",
       "\n",
       "    .dataframe thead th {\n",
       "        text-align: right;\n",
       "    }\n",
       "</style>\n",
       "<table border=\"1\" class=\"dataframe\">\n",
       "  <thead>\n",
       "    <tr style=\"text-align: right;\">\n",
       "      <th></th>\n",
       "      <th>Model</th>\n",
       "      <th>Data_Train</th>\n",
       "      <th>Data_Test</th>\n",
       "      <th>Epochs</th>\n",
       "      <th>Batch_size</th>\n",
       "      <th>Loss</th>\n",
       "      <th>Accuracy</th>\n",
       "    </tr>\n",
       "  </thead>\n",
       "  <tbody>\n",
       "    <tr>\n",
       "      <th>0</th>\n",
       "      <td>&lt;keras.src.engine.sequential.Sequential object...</td>\n",
       "      <td>(800, 28, 1)</td>\n",
       "      <td>(200, 28, 1)</td>\n",
       "      <td>20</td>\n",
       "      <td>64</td>\n",
       "      <td>0.069018</td>\n",
       "      <td>0.985</td>\n",
       "    </tr>\n",
       "  </tbody>\n",
       "</table>\n",
       "</div>"
      ],
      "text/plain": [
       "                                               Model    Data_Train  \\\n",
       "0  <keras.src.engine.sequential.Sequential object...  (800, 28, 1)   \n",
       "\n",
       "      Data_Test  Epochs  Batch_size      Loss  Accuracy  \n",
       "0  (200, 28, 1)      20          64  0.069018     0.985  "
      ]
     },
     "execution_count": 33,
     "metadata": {},
     "output_type": "execute_result"
    }
   ],
   "source": [
    "evaluation = pd.DataFrame({'Model': [],\n",
    "                           'Data_Train': [],\n",
    "                           'Data_Test': [],\n",
    "                           'Epochs': [],\n",
    "                           'Batch_size':[],\n",
    "                           'Loss': [],\n",
    "                           'Accuracy': []\n",
    "                           })\n",
    "\n",
    "r = evaluation.shape[0]\n",
    "evaluation.loc[r] = [model, str(X_train.shape), str(X_test.shape), EPOCHS, BATCH_SIZE, score[0], score[1]]\n",
    "evaluation"
   ]
  },
  {
   "cell_type": "code",
   "execution_count": 34,
   "metadata": {},
   "outputs": [
    {
     "data": {
      "text/html": [
       "<div>\n",
       "<style scoped>\n",
       "    .dataframe tbody tr th:only-of-type {\n",
       "        vertical-align: middle;\n",
       "    }\n",
       "\n",
       "    .dataframe tbody tr th {\n",
       "        vertical-align: top;\n",
       "    }\n",
       "\n",
       "    .dataframe thead th {\n",
       "        text-align: right;\n",
       "    }\n",
       "</style>\n",
       "<table border=\"1\" class=\"dataframe\">\n",
       "  <thead>\n",
       "    <tr style=\"text-align: right;\">\n",
       "      <th></th>\n",
       "      <th>Model</th>\n",
       "      <th>Data Train</th>\n",
       "      <th>Data Test</th>\n",
       "      <th>Epochs</th>\n",
       "      <th>Batch Size</th>\n",
       "      <th>Loss</th>\n",
       "      <th>Accuracy</th>\n",
       "    </tr>\n",
       "  </thead>\n",
       "  <tbody>\n",
       "    <tr>\n",
       "      <th>0</th>\n",
       "      <td>&lt;keras.src.engine.sequential.Sequential object...</td>\n",
       "      <td>(800, 28, 1)</td>\n",
       "      <td>(200, 28, 1)</td>\n",
       "      <td>20</td>\n",
       "      <td>64</td>\n",
       "      <td>0.069018</td>\n",
       "      <td>0.985</td>\n",
       "    </tr>\n",
       "  </tbody>\n",
       "</table>\n",
       "</div>"
      ],
      "text/plain": [
       "                                               Model    Data Train  \\\n",
       "0  <keras.src.engine.sequential.Sequential object...  (800, 28, 1)   \n",
       "\n",
       "      Data Test  Epochs  Batch Size      Loss  Accuracy  \n",
       "0  (200, 28, 1)      20          64  0.069018     0.985  "
      ]
     },
     "execution_count": 34,
     "metadata": {},
     "output_type": "execute_result"
    }
   ],
   "source": [
    "dict = {\"Model\" : evaluation.Model,\n",
    "        \"Data Train\" : evaluation.Data_Train,\n",
    "        \"Data Test\" : evaluation.Data_Test,\n",
    "        \"Epochs\" : evaluation.Epochs,\n",
    "        \"Batch Size\" : evaluation.Batch_size,\n",
    "        \"Loss\" : evaluation.Loss,\n",
    "        \"Accuracy\" : evaluation.Accuracy\n",
    "        }\n",
    "\n",
    "df = pd.DataFrame(dict)\n",
    "# Save to Drive for CSV data\n",
    "df.to_csv(r\"data/hasil_model_NN.csv\", index=False)\n",
    "df"
   ]
  },
  {
   "cell_type": "markdown",
   "metadata": {},
   "source": [
    "## Save Model"
   ]
  },
  {
   "cell_type": "code",
   "execution_count": 36,
   "metadata": {},
   "outputs": [
    {
     "name": "stdout",
     "output_type": "stream",
     "text": [
      "INFO:tensorflow:Assets written to: model/nn_model.json\\assets\n"
     ]
    },
    {
     "name": "stderr",
     "output_type": "stream",
     "text": [
      "INFO:tensorflow:Assets written to: model/nn_model.json\\assets\n"
     ]
    }
   ],
   "source": [
    "model.save('model/nn_model.json')"
   ]
  }
 ],
 "metadata": {
  "kernelspec": {
   "display_name": "Python 3 (ipykernel)",
   "language": "python",
   "name": "python3"
  },
  "language_info": {
   "codemirror_mode": {
    "name": "ipython",
    "version": 3
   },
   "file_extension": ".py",
   "mimetype": "text/x-python",
   "name": "python",
   "nbconvert_exporter": "python",
   "pygments_lexer": "ipython3",
   "version": "3.11.5"
  },
  "nbTranslate": {
   "displayLangs": [
    "*"
   ],
   "hotkey": "alt-t",
   "langInMainMenu": true,
   "sourceLang": "en",
   "targetLang": "fr",
   "useGoogleTranslate": true
  }
 },
 "nbformat": 4,
 "nbformat_minor": 2
}
